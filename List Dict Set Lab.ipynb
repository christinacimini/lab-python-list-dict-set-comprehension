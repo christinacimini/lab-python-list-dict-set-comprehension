{
 "cells": [
  {
   "cell_type": "code",
   "execution_count": 2,
   "id": "956a1c4a",
   "metadata": {},
   "outputs": [],
   "source": [
    "products = ['t-shirt', 'mug', 'hat', 'book', 'keychain']"
   ]
  },
  {
   "cell_type": "code",
   "execution_count": 3,
   "id": "b6e57b19",
   "metadata": {},
   "outputs": [],
   "source": [
    "def initialize_inventory(products):\n",
    "    inventory = {product: int(input(f\"What is the quantity of {product}?: \")) for product in products}\n",
    "    return inventory\n",
    "\n",
    "inventory = initialize_inventory(products)"
   ]
  },
  {
   "cell_type": "code",
   "execution_count": 4,
   "id": "95f83d22",
   "metadata": {},
   "outputs": [
    {
     "data": {
      "text/plain": [
       "{'t-shirt': 3, 'mug': 2, 'hat': 3, 'book': 5, 'keychain': 6}"
      ]
     },
     "execution_count": 4,
     "metadata": {},
     "output_type": "execute_result"
    }
   ],
   "source": [
    "inventory"
   ]
  },
  {
   "cell_type": "code",
   "execution_count": 9,
   "id": "0ecc140a",
   "metadata": {},
   "outputs": [],
   "source": [
    "def get_customer_orders():\n",
    "    no_of_products = int(input(f'How many products would you like to order? '))\n",
    "    customer_orders = {input(f'Choose product {item + 1}: ') for item in range(no_of_products)}\n",
    "    return customer_orders\n",
    "\n",
    "customer_orders = get_customer_orders()"
   ]
  },
  {
   "cell_type": "code",
   "execution_count": 10,
   "id": "9c74d798",
   "metadata": {},
   "outputs": [
    {
     "data": {
      "text/plain": [
       "{'bob', 'edf'}"
      ]
     },
     "execution_count": 10,
     "metadata": {},
     "output_type": "execute_result"
    }
   ],
   "source": [
    "customer_orders"
   ]
  },
  {
   "cell_type": "code",
   "execution_count": 11,
   "id": "33a7f66a",
   "metadata": {},
   "outputs": [
    {
     "name": "stdout",
     "output_type": "stream",
     "text": [
      "Total Price: $358.0\n"
     ]
    }
   ],
   "source": [
    "def customer_total_price():\n",
    "    order_prices = {float(input(f'Enter the price of {product}: ')) for product in customer_orders}\n",
    "    total_price = sum(order_prices)\n",
    "    print(f'Total Price: ${total_price}')\n",
    "\n",
    "customer_total_price()"
   ]
  },
  {
   "cell_type": "code",
   "execution_count": 13,
   "id": "846aabe2",
   "metadata": {},
   "outputs": [
    {
     "data": {
      "text/plain": [
       "{'t-shirt': 3, 'mug': 2, 'hat': 3, 'book': 5, 'keychain': 6}"
      ]
     },
     "execution_count": 13,
     "metadata": {},
     "output_type": "execute_result"
    }
   ],
   "source": [
    "def update_inventory(customer_orders, inventory):\n",
    "    new_inventory = {product: (quantity - 1) if product in customer_orders else quantity for product, quantity in inventory.items()}\n",
    "    filtered_inventory = {product: quantity for product, quantity in new_inventory.items() if quantity != 0}\n",
    "    return filtered_inventory\n",
    "\n",
    "update_inventory(customer_orders, inventory)"
   ]
  },
  {
   "cell_type": "code",
   "execution_count": 14,
   "id": "edef5529",
   "metadata": {},
   "outputs": [
    {
     "name": "stdout",
     "output_type": "stream",
     "text": [
      "Total Products Ordered: 2\n",
      "Percentage of Unique Products Ordered: 40.0%\n"
     ]
    }
   ],
   "source": [
    "def calculate_order_statistics(customer_orders, inventory):\n",
    "    print(f'Total Products Ordered: {len(customer_orders)}')\n",
    "    print(f'Percentage of Unique Products Ordered: {len(customer_orders)/len(inventory) * 100}%')\n",
    "\n",
    "calculate_order_statistics(customer_orders, inventory)\n",
    "    "
   ]
  }
 ],
 "metadata": {
  "kernelspec": {
   "display_name": "Python 3 (ipykernel)",
   "language": "python",
   "name": "python3"
  },
  "language_info": {
   "codemirror_mode": {
    "name": "ipython",
    "version": 3
   },
   "file_extension": ".py",
   "mimetype": "text/x-python",
   "name": "python",
   "nbconvert_exporter": "python",
   "pygments_lexer": "ipython3",
   "version": "3.11.4"
  },
  "toc": {
   "base_numbering": 1,
   "nav_menu": {},
   "number_sections": true,
   "sideBar": true,
   "skip_h1_title": false,
   "title_cell": "Table of Contents",
   "title_sidebar": "Contents",
   "toc_cell": true,
   "toc_position": {},
   "toc_section_display": true,
   "toc_window_display": true
  }
 },
 "nbformat": 4,
 "nbformat_minor": 5
}
