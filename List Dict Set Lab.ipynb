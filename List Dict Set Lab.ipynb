{
 "cells": [
  {
   "cell_type": "code",
   "execution_count": 60,
   "id": "956a1c4a",
   "metadata": {},
   "outputs": [],
   "source": [
    "products = ['t-shirt', 'mug', 'hat', 'book', 'keychain']\n",
    "inventory = {}\n",
    "\n",
    "customer_orders = set()"
   ]
  },
  {
   "cell_type": "code",
   "execution_count": 3,
   "id": "b6e57b19",
   "metadata": {},
   "outputs": [
    {
     "data": {
      "text/plain": [
       "{'t-shirt': 45, 'mug': 45, 'hat': 34, 'book': 34, 'keychain': 54}"
      ]
     },
     "execution_count": 3,
     "metadata": {},
     "output_type": "execute_result"
    }
   ],
   "source": [
    "def initialize_inventory(products):\n",
    "    inventory = {product: int(input(f\"What is the quantity of {product}?: \")) for product in products}\n",
    "    return inventory\n",
    "\n",
    "initialize_inventory(products)"
   ]
  },
  {
   "cell_type": "code",
   "execution_count": 55,
   "id": "0ecc140a",
   "metadata": {},
   "outputs": [
    {
     "data": {
      "text/plain": [
       "{'book', 'hat', 'keychain'}"
      ]
     },
     "execution_count": 55,
     "metadata": {},
     "output_type": "execute_result"
    }
   ],
   "source": [
    "customer_orders = set()\n",
    "\n",
    "def get_customer_orders():\n",
    "    no_of_products = int(input(f'How many products would you like to order? '))\n",
    "    customer_orders = {input(f'Choose product {item + 1}: ') for item in range(no_of_products)}\n",
    "    return customer_orders\n",
    "\n",
    "get_customer_orders()"
   ]
  },
  {
   "cell_type": "code",
   "execution_count": 58,
   "id": "33a7f66a",
   "metadata": {},
   "outputs": [
    {
     "data": {
      "text/plain": [
       "0"
      ]
     },
     "execution_count": 58,
     "metadata": {},
     "output_type": "execute_result"
    }
   ],
   "source": [
    "order_prices = set()\n",
    "\n",
    "def customer_total_price():\n",
    "    order_prices = {int(input(f'Enter the price of {product}: ')) for product in customer_orders}\n",
    "    total_price = sum(order_prices)\n",
    "    return total_price\n",
    "\n",
    "customer_total_price()"
   ]
  },
  {
   "cell_type": "code",
   "execution_count": 61,
   "id": "846aabe2",
   "metadata": {},
   "outputs": [
    {
     "data": {
      "text/plain": [
       "{}"
      ]
     },
     "execution_count": 61,
     "metadata": {},
     "output_type": "execute_result"
    }
   ],
   "source": [
    "def update_inventory(customer_orders, inventory):\n",
    "    new_inventory = {product: (quantity - 1) if product in customer_orders else quantity for product, quantity in inventory.items()}\n",
    "    filtered_inventory = {product: quantity for product, quantity in new_inventory.items() if quantity != 0}\n",
    "    return filtered_inventory\n",
    "\n",
    "update_inventory(customer_orders, inventory)"
   ]
  },
  {
   "cell_type": "code",
   "execution_count": 31,
   "id": "fbc9849d",
   "metadata": {},
   "outputs": [
    {
     "data": {
      "text/plain": [
       "(13, 0.6190476190476191)"
      ]
     },
     "execution_count": 31,
     "metadata": {},
     "output_type": "execute_result"
    }
   ],
   "source": [
    "def calculate_order_statistics(customer_orders, products):\n",
    "    order_status = (sum(inventory[item] for item in customer_orders), sum(inventory[item] for item in customer_orders) / sum(inventory.values()))\n",
    "    return(order_status)\n",
    "\n",
    "calculate_order_statistics(customer_orders, products)"
   ]
  }
 ],
 "metadata": {
  "kernelspec": {
   "display_name": "Python 3 (ipykernel)",
   "language": "python",
   "name": "python3"
  },
  "language_info": {
   "codemirror_mode": {
    "name": "ipython",
    "version": 3
   },
   "file_extension": ".py",
   "mimetype": "text/x-python",
   "name": "python",
   "nbconvert_exporter": "python",
   "pygments_lexer": "ipython3",
   "version": "3.11.4"
  },
  "toc": {
   "base_numbering": 1,
   "nav_menu": {},
   "number_sections": true,
   "sideBar": true,
   "skip_h1_title": false,
   "title_cell": "Table of Contents",
   "title_sidebar": "Contents",
   "toc_cell": true,
   "toc_position": {},
   "toc_section_display": true,
   "toc_window_display": true
  }
 },
 "nbformat": 4,
 "nbformat_minor": 5
}
