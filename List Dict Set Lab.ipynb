{
 "cells": [
  {
   "cell_type": "code",
   "execution_count": 2,
   "id": "956a1c4a",
   "metadata": {},
   "outputs": [],
   "source": [
    "products = ['t-shirt', 'mug', 'hat', 'book', 'keychain']\n",
    "inventory = {}\n",
    "\n",
    "customer_orders = set()"
   ]
  },
  {
   "cell_type": "code",
   "execution_count": 3,
   "id": "b6e57b19",
   "metadata": {},
   "outputs": [
    {
     "data": {
      "text/plain": [
       "{'t-shirt': 45, 'mug': 45, 'hat': 34, 'book': 34, 'keychain': 54}"
      ]
     },
     "execution_count": 3,
     "metadata": {},
     "output_type": "execute_result"
    }
   ],
   "source": [
    "def initialize_inventory(products):\n",
    "    inventory = {product: int(input(f\"What is the quantity of {product}?: \")) for product in products}\n",
    "    return inventory\n",
    "\n",
    "initialize_inventory(products)"
   ]
  },
  {
   "cell_type": "code",
   "execution_count": 24,
   "id": "f9200589",
   "metadata": {},
   "outputs": [
    {
     "data": {
      "text/plain": [
       "[('keychain',\n",
       "  <generator object get_customer_orders.<locals>.<genexpr> at 0x0000029A609AC640>),\n",
       " ('hat', 34),\n",
       " ('book',\n",
       "  <generator object get_customer_orders.<locals>.<genexpr> at 0x0000029A609AC540>)]"
      ]
     },
     "execution_count": 24,
     "metadata": {},
     "output_type": "execute_result"
    }
   ],
   "source": [
    "customer_orders = set()\n",
    "customer_quantities = set()\n",
    "\n",
    "def get_customer_orders():\n",
    "  customer_orders = {input(f'Choose a product to add: ')}\n",
    "  customer_quantities = {int(input(f'Enter the quantity of {product}: ')) for product in customer_orders}\n",
    "  add_more = input(\"Do you want to add another product? (y/n) \")\n",
    "  while add_more == 'y':\n",
    "    customer_orders.add(input(f'Choose a product to add: '))\n",
    "    customer_quantities.add(int(input(f'Enter the quantity of {product}: ')) for product in customer_orders)\n",
    "    add_more = input(\"Do you want to add another product? (y/n) \")\n",
    "    if add_more == 'n':\n",
    "      break\n",
    "  customer_orders_quantities = list(zip(customer_orders, customer_quantities))\n",
    "  return customer_orders_quantities\n",
    "       \n",
    "get_customer_orders()"
   ]
  },
  {
   "cell_type": "code",
   "execution_count": 22,
   "id": "33a7f66a",
   "metadata": {},
   "outputs": [
    {
     "data": {
      "text/plain": [
       "<function __main__.customer_total_price()>"
      ]
     },
     "execution_count": 22,
     "metadata": {},
     "output_type": "execute_result"
    }
   ],
   "source": [
    "def customer_total_price():\n",
    "    order_prices = {input(f'Enter the price of {product}: ') for product, quantity in customer_orders_quantities}\n",
    "    total_price = sum(order_prices.items() for product in order_prices)\n",
    "    return total_price\n",
    "\n",
    "customer_total_price"
   ]
  },
  {
   "cell_type": "code",
   "execution_count": 49,
   "id": "846aabe2",
   "metadata": {},
   "outputs": [
    {
     "data": {
      "text/plain": [
       "{'t-shirt': 4, 'mug': 4, 'hat': 4, 'book': 2, 'keychain': 4}"
      ]
     },
     "execution_count": 49,
     "metadata": {},
     "output_type": "execute_result"
    }
   ],
   "source": [
    "def update_inventory(customer_orders, inventory):\n",
    "    new_inventory = {product: (quantity - 1) if product in customer_orders else quantity for product, quantity in inventory.items()}\n",
    "    return new_inventory\n",
    "\n",
    "update_inventory(customer_orders, inventory)"
   ]
  },
  {
   "cell_type": "code",
   "execution_count": 31,
   "id": "fbc9849d",
   "metadata": {},
   "outputs": [
    {
     "data": {
      "text/plain": [
       "(13, 0.6190476190476191)"
      ]
     },
     "execution_count": 31,
     "metadata": {},
     "output_type": "execute_result"
    }
   ],
   "source": [
    "def calculate_order_statistics(customer_orders, products):\n",
    "    order_status = (sum(inventory[item] for item in customer_orders), sum(inventory[item] for item in customer_orders) / sum(inventory.values()))\n",
    "    return(order_status)\n",
    "\n",
    "calculate_order_statistics(customer_orders, products)"
   ]
  },
  {
   "cell_type": "code",
   "execution_count": 47,
   "id": "086639af",
   "metadata": {},
   "outputs": [
    {
     "name": "stdout",
     "output_type": "stream",
     "text": [
      "{'t-shirt': 4, 'mug': 4, 'hat': 4, 'book': 2, 'keychain': 4}\n"
     ]
    }
   ],
   "source": [
    "new_inventory = {product: (quantity - 1) if product in customer_orders else quantity for product, quantity in inventory.items()}\n",
    "\n",
    "def print_updated_inventory(inventory):\n",
    "    print(new_inventory)\n",
    "\n",
    "print_updated_inventory(inventory)"
   ]
  }
 ],
 "metadata": {
  "kernelspec": {
   "display_name": "Python 3 (ipykernel)",
   "language": "python",
   "name": "python3"
  },
  "language_info": {
   "codemirror_mode": {
    "name": "ipython",
    "version": 3
   },
   "file_extension": ".py",
   "mimetype": "text/x-python",
   "name": "python",
   "nbconvert_exporter": "python",
   "pygments_lexer": "ipython3",
   "version": "3.11.4"
  },
  "toc": {
   "base_numbering": 1,
   "nav_menu": {},
   "number_sections": true,
   "sideBar": true,
   "skip_h1_title": false,
   "title_cell": "Table of Contents",
   "title_sidebar": "Contents",
   "toc_cell": true,
   "toc_position": {},
   "toc_section_display": true,
   "toc_window_display": true
  }
 },
 "nbformat": 4,
 "nbformat_minor": 5
}
